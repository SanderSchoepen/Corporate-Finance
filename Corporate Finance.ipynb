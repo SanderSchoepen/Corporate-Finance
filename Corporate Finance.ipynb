{
 "cells": [
  {
   "cell_type": "code",
   "execution_count": null,
   "metadata": {},
   "outputs": [],
   "source": [
    "import pandas as pd\n",
    "from sklearn.linear_model import LinearRegression\n",
    "\n",
    "\n",
    "#prepare the dataset\n",
    "\n",
    "df = pd.read_excel('C:/Users/saaan/Downloads/Boss.xlsx')\n",
    "df=pd.DataFrame(df)\n",
    "#calculate monthly bond yield\n",
    "df[\"monthly_yield\"]=(1+df[\"Bond\"])**(1/12)-1\n",
    "\n",
    "#subtract monthly bond yield from returns to get excess returns\n",
    "for i in range(1,11):\n",
    "    df.iloc[:,i]=df.iloc[:,i]-df.iloc[:,11]\n",
    "df=df.dropna()\n",
    "df.round(4)"
   ]
  },
  {
   "cell_type": "code",
   "execution_count": 38,
   "metadata": {},
   "outputs": [],
   "source": [
    "#create a list for the dependent variables\n",
    "variables=list(df.columns)\n",
    "variables.remove('Date')\n",
    "variables.remove('MSWRLD')\n",
    "variables.remove('Bond')\n",
    "variables.remove('monthly_yield')\n",
    "variables"
   ]
  },
  {
   "cell_type": "code",
   "execution_count": 121,
   "metadata": {},
   "outputs": [
    {
     "name": "stdout",
     "output_type": "stream",
     "text": [
      "Beta MONC: [0.9552]\n",
      "Beta RMS: [0.8308]\n",
      "Beta PRAD: [1.0361]\n",
      "Beta LVMH: [1.005]\n",
      "Beta KER: [1.0188]\n",
      "Beta CPRI: [2.1504]\n",
      "Beta HBI: [1.64]\n",
      "Beta BOSS: [1.3204]\n"
     ]
    }
   ],
   "source": [
    "X=df[\"MSWRLD\"]\n",
    "X=pd.DataFrame(X)\n",
    "\n",
    "for ticker in variables:\n",
    "\n",
    "    reg = LinearRegression().fit(X, df[[ticker]])\n",
    "    print(f\"Beta {ticker}:\", reg.coef_[0].round(4))\n",
    "    \n",
    "    "
   ]
  }
 ],
 "metadata": {
  "kernelspec": {
   "display_name": "base",
   "language": "python",
   "name": "python3"
  },
  "language_info": {
   "codemirror_mode": {
    "name": "ipython",
    "version": 3
   },
   "file_extension": ".py",
   "mimetype": "text/x-python",
   "name": "python",
   "nbconvert_exporter": "python",
   "pygments_lexer": "ipython3",
   "version": "3.9.13"
  }
 },
 "nbformat": 4,
 "nbformat_minor": 2
}
