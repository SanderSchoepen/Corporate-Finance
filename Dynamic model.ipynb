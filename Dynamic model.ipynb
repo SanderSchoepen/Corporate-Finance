{
 "cells": [
  {
   "attachments": {},
   "cell_type": "markdown",
   "metadata": {},
   "source": [
    "The last cell contains a function. Change the year to find the probabilities of boom, normal and bust."
   ]
  },
  {
   "cell_type": "code",
   "execution_count": 1,
   "metadata": {},
   "outputs": [
    {
     "name": "stdout",
     "output_type": "stream",
     "text": [
      "[[ 0.2 -1.6  1. ]\n",
      " [ 1.   1.   0. ]\n",
      " [ 0.3  0.6 -1. ]]\n",
      "[0 0 1]\n",
      "[ 0.66666667 -0.66666667 -1.2       ]\n",
      "[0. 0. 1.]\n"
     ]
    }
   ],
   "source": [
    "import numpy as np\n",
    "#Solving a system of linear equations: find a linear combination of eigenvectors which is equal to the economic condition at time=0\n",
    "\n",
    "#A= eigenvectors\n",
    "v=np.array([[0.2,-1.6,1],[1,1,0],[0.3,0.6,-1]])\n",
    "print(v)\n",
    "#b\n",
    "year_0=np.array([0,0,1])\n",
    "print(year_0)\n",
    "#solve\n",
    "X=np.linalg.solve(v,year_0)\n",
    "print(X)\n",
    "#verify solution\n",
    "result=np.dot(v,X)\n",
    "print(result)"
   ]
  },
  {
   "cell_type": "code",
   "execution_count": null,
   "metadata": {},
   "outputs": [],
   "source": [
    "def forecast(time):\n",
    "    #define year\n",
    "    year=time\n",
    "    # construct dynamic system\n",
    "    a=X[0]\n",
    "    b=X[1]\n",
    "    c=X[2]\n",
    "    #define eigenvalues\n",
    "    eig1=100\n",
    "    eig2=70\n",
    "    eig3=65\n",
    "    #define eigenvector matrix\n",
    "    v=np.array([[2,-8,-1],[-10,5,0],[3,3,1]])\n",
    "    #multiply a,b,c with respective eigenvalues to the power (**) of the year\n",
    "    vector=np.array([a*eig1**year,b*eig2**year,c*eig3**year])\n",
    "    #print(vector)\n",
    "    #calculate economic condition\n",
    "    economy=np.dot(v,vector)\n",
    "    #print results\n",
    "    print(f\"boom: {economy[0]}\\nnormal: {economy[1]}\\nrecession: {economy[2]}\")\n",
    "\n",
    "\n"
   ]
  },
  {
   "cell_type": "code",
   "execution_count": null,
   "metadata": {},
   "outputs": [],
   "source": [
    "forecast(2)"
   ]
  },
  {
   "cell_type": "code",
   "execution_count": 4,
   "metadata": {},
   "outputs": [],
   "source": [
    "def forecast(time):\n",
    "    #define year\n",
    "    year=time\n",
    "    # construct dynamic system\n",
    "    a=-1/5\n",
    "    b=-2/5\n",
    "    c=14/5\n",
    "    #define eigenvalues\n",
    "    eig1=1\n",
    "    eig2=0.7\n",
    "    eig3=0.65\n",
    "    #define eigenvector matrix\n",
    "    v=np.array([[2,-8,-1],[-10,5,0],[3,3,1]])\n",
    "    #multiply a,b,c with respective eigenvalues to the power (**) of the year\n",
    "    vector=np.array([a*eig1**year,b*eig2**year,c*eig3**year])\n",
    "    #print(vector)\n",
    "    #calculate economic condition\n",
    "    economy=np.dot(v,vector)\n",
    "    #print results\n",
    "    print(f\"boom: {economy[0]}\\nnormal: {economy[1]}\\nrecession: {economy[2]}\")\n",
    "\n",
    "\n"
   ]
  },
  {
   "cell_type": "code",
   "execution_count": 5,
   "metadata": {},
   "outputs": [
    {
     "name": "stdout",
     "output_type": "stream",
     "text": [
      "boom: -0.015000000000000346\n",
      "normal: 1.02\n",
      "recession: -0.0050000000000001155\n"
     ]
    }
   ],
   "source": [
    "forecast(2)"
   ]
  }
 ],
 "metadata": {
  "kernelspec": {
   "display_name": "base",
   "language": "python",
   "name": "python3"
  },
  "language_info": {
   "codemirror_mode": {
    "name": "ipython",
    "version": 3
   },
   "file_extension": ".py",
   "mimetype": "text/x-python",
   "name": "python",
   "nbconvert_exporter": "python",
   "pygments_lexer": "ipython3",
   "version": "3.9.13"
  },
  "orig_nbformat": 4
 },
 "nbformat": 4,
 "nbformat_minor": 2
}
