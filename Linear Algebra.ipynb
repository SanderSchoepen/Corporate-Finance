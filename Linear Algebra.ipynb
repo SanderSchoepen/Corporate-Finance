{
 "cells": [
  {
   "cell_type": "code",
   "execution_count": 6,
   "metadata": {},
   "outputs": [],
   "source": [
    "import numpy as np\n",
    "matrix = np.array([[0.75,0.02,0.1], [0.2,0.9,0.2], [0.05,0.08,0.7]])\n",
    "matrix_100 = np.array([[75,2,10], [20,90,20], [5,8,70]])"
   ]
  },
  {
   "cell_type": "code",
   "execution_count": 7,
   "metadata": {},
   "outputs": [
    {
     "name": "stdout",
     "output_type": "stream",
     "text": [
      "Eigenvalues: [1.   0.7  0.65]\n",
      "Eigenvectors:\n",
      "[[-1.88144174e-01 -8.08122036e-01 -7.07106781e-01]\n",
      " [-9.40720868e-01  5.05076272e-01  2.05361068e-15]\n",
      " [-2.82216261e-01  3.03045763e-01  7.07106781e-01]]\n",
      "Eigenvalues: [100.  70.  65.]\n",
      "Eigenvectors:\n",
      "[[-1.88144174e-01 -8.08122036e-01 -7.07106781e-01]\n",
      " [-9.40720868e-01  5.05076272e-01  3.73941050e-15]\n",
      " [-2.82216261e-01  3.03045763e-01  7.07106781e-01]]\n"
     ]
    }
   ],
   "source": [
    "eigenvalues, eigenvectors = np.linalg.eig(matrix)\n",
    "print(\"Eigenvalues:\", eigenvalues)\n",
    "print(\"Eigenvectors:\")\n",
    "print(eigenvectors)\n",
    "\n",
    "eigenvalues, eigenvectors = np.linalg.eig(matrix_100)\n",
    "print(\"Eigenvalues:\", eigenvalues)\n",
    "print(\"Eigenvectors:\")\n",
    "print(eigenvectors)\n",
    "\n"
   ]
  },
  {
   "cell_type": "code",
   "execution_count": 2,
   "metadata": {},
   "outputs": [
    {
     "name": "stdout",
     "output_type": "stream",
     "text": [
      "Determinant of the matrix is: 0.455\n"
     ]
    }
   ],
   "source": [
    "# Calculate the determinant\n",
    "determinant = np.linalg.det(matrix)\n",
    "\n",
    "# Print the determinant\n",
    "print(\"Determinant of the matrix is:\", determinant)"
   ]
  },
  {
   "cell_type": "code",
   "execution_count": 17,
   "metadata": {},
   "outputs": [
    {
     "name": "stdout",
     "output_type": "stream",
     "text": [
      "[[ 0.2 -1.6  1. ]\n",
      " [ 1.   1.   0. ]\n",
      " [ 0.3  0.6 -1. ]]\n",
      "[0 0 1]\n",
      "[ 0.66666667 -0.66666667 -1.2       ]\n",
      "[0. 0. 1.]\n"
     ]
    }
   ],
   "source": [
    "import numpy as np\n",
    "#Solving a system of linear equations: find a linear combination of eigenvectors which is equal to the economic condition at time=0\n",
    "\n",
    "#A= eigenvectors\n",
    "v=np.array([[0.2,-1.6,1],[1,1,0],[0.3,0.6,-1]])\n",
    "print(v)\n",
    "#b\n",
    "year_0=np.array([0,0,1])\n",
    "print(year_0)\n",
    "#solve\n",
    "X=np.linalg.solve(v,year_0)\n",
    "print(X)\n",
    "#verify solution\n",
    "result=np.dot(v,X)\n",
    "print(result)"
   ]
  },
  {
   "cell_type": "code",
   "execution_count": 51,
   "metadata": {},
   "outputs": [],
   "source": [
    "def forecast(time):\n",
    "    #define year\n",
    "    year=time\n",
    "    # construct dynamic system\n",
    "    a=X[0]\n",
    "    b=X[1]\n",
    "    c=X[2]\n",
    "    #define eigenvalues\n",
    "    eig1=1\n",
    "    eig2=0.7\n",
    "    eig3=0.65\n",
    "    #define eigenvector matrix\n",
    "    v=np.array([[0.2,-1.6,1],[1,1,0],[0.3,0.6,-1]])\n",
    "    #multiply a,b,c with respective eigenvalues to the power (**) of the year\n",
    "    vector=np.array([a*eig1**year,b*eig2**year,c*eig3**year])\n",
    "    #print(vector)\n",
    "    #calculate economic condition\n",
    "    economy=np.dot(v,vector)\n",
    "    #print results\n",
    "    print(f\"boom: {economy[0]}\\nnormal: {economy[1]}\\nrecession: {economy[2]}\")\n",
    "\n",
    "\n"
   ]
  },
  {
   "cell_type": "code",
   "execution_count": 55,
   "metadata": {},
   "outputs": [
    {
     "name": "stdout",
     "output_type": "stream",
     "text": [
      "boom: 0.1489999999999999\n",
      "normal: 0.34\n",
      "recession: 0.511\n"
     ]
    }
   ],
   "source": [
    "forecast(2)"
   ]
  }
 ],
 "metadata": {
  "kernelspec": {
   "display_name": "base",
   "language": "python",
   "name": "python3"
  },
  "language_info": {
   "codemirror_mode": {
    "name": "ipython",
    "version": 3
   },
   "file_extension": ".py",
   "mimetype": "text/x-python",
   "name": "python",
   "nbconvert_exporter": "python",
   "pygments_lexer": "ipython3",
   "version": "3.9.13"
  },
  "orig_nbformat": 4
 },
 "nbformat": 4,
 "nbformat_minor": 2
}
